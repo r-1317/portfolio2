{
  "nbformat": 4,
  "nbformat_minor": 0,
  "metadata": {
    "colab": {
      "provenance": []
    },
    "kernelspec": {
      "name": "python3",
      "display_name": "Python 3"
    },
    "language_info": {
      "name": "python"
    }
  },
  "cells": [
    {
      "cell_type": "markdown",
      "source": [
        "# **任意の文字列を先頭にもつ電子掲示板のトリップを生成するプログラム**\n",
        "\n",
        "## **概要**\n",
        "\n",
        "任意の文字列を先頭にもつ電子掲示板のトリップを生成するプログラムです。\n",
        "\n",
        "\n",
        "\n",
        "## **操作方法**\n",
        "\n",
        "実行すると先頭に表示させたい文字列の入力を求められます。\n",
        "そこに表示させたい文字列を入力してください。<br>\n",
        "カンマ区切りで複数入力し、そのうちのどれか1つを先頭に持つようにすることもできます。\n",
        "### 例\n",
        "```\n",
        "ABC\n",
        "ABC,DEF,123\n",
        "```\n",
        "4文字以上だと、かなり時間がかかります。\n",
        "\n",
        "\n",
        "## **制作者のコメント**\n",
        "\n",
        "ローカル環境での実行を試みたところ、Windowsでは動かないようです。<br>\n",
        "Linuxでは動きました。\n",
        "\n",
        "## **作成時間**\n",
        "\n",
        "作成時間：**約9時間**\n",
        "\n",
        "この課題に関連して行なった調査や学習に要した時間も含めてた時間を記述してください。"
      ],
      "metadata": {
        "id": "BNb7I1FCMlFJ"
      }
    },
    {
      "cell_type": "code",
      "source": [
        "%reset -f\n",
        "from crypt import crypt\n",
        "x = False\n",
        "#入力された文字列を分割############\n",
        "str_s = str(input(\"先頭に表示させたい文字列:\"))\n",
        "list_s = str_s.split(\",\")\n",
        "for tripkey in range(10000000000):\n",
        "  if x == True:\n",
        "      break\n",
        "#トリップ生成######################\n",
        "  tripkey = str(tripkey)\n",
        "  salt = (tripkey + \"H.\")[1:3]\n",
        "  trip = crypt(tripkey, salt)\n",
        "  trip = trip[-10:]\n",
        "#比較##############################\n",
        "  for s in list_s:\n",
        "    if x == True:\n",
        "      break\n",
        "    if s == trip[0:len(s)]:\n",
        "      print(f\"trip: ◆{trip}\")\n",
        "      print(f\"key: #{tripkey}\")\n",
        "      x = True\n",
        "      break\n",
        "if x == False:\n",
        "  print(\"見つかりませんでした。\")"
      ],
      "metadata": {
        "colab": {
          "base_uri": "https://localhost:8080/"
        },
        "id": "3hbrnlgjPcf4",
        "outputId": "868277c2-c6dd-43e7-c58d-dca430a8eba0"
      },
      "execution_count": 1,
      "outputs": [
        {
          "output_type": "stream",
          "name": "stdout",
          "text": [
            "先頭に表示させたい文字列:test,TEST,Test\n",
            "trip: ◆TestrA8IMA\n",
            "key: #27792091\n"
          ]
        }
      ]
    },
    {
      "cell_type": "markdown",
      "source": [
        "## **結果のメモ**\n",
        "\n",
        "先頭に表示させたい文字列:test,TEST,Test<br>\n",
        "trip: ◆TestrA8IMA<br>\n",
        "key: #27792091<br>\n",
        "\n",
        "先頭に表示させたい文字列:AAAA,BBBB,CCCC,DDDD,EEEE,FFFF<br>\n",
        "trip: ◆EEEEryJjWo<br>\n",
        "key: #111256<br>\n",
        "\n",
        "先頭に表示させたい文字列:00000,11111,22222,33333,44444,55555,66666,77777,88888,99999,aaaaa,bbbbb,ccccc,ddddd,eeeee,fffff,ggggg,hhhhh,iiiii,jjjjj,kkkkk,lllll,nnnnn,mmmmm,ooooo,ppppp,qqqqq,rrrrr,sssss,ttttt,uuuuu,vvvvv,wwwww,xxxxx,yyyyy,zzzzz,AAAAA,BBBBB,CCCCC,DDDDD,EEEEE,FFFFF,GGGGG,HHHHH,IIIII,JJJJJ,KKKKK,LLLLL,MMMMM,NNNNN,OOOOO,PPPPP,QQQQQ,RRRRR,SSSSS,TTTTT,UUUUU,VVVVV,WWWWW,XXXXX,YYYYY,ZZZZZ,.....,/////<br>\n",
        "trip: ◆jjjjjnLmmg<br>\n",
        "key: #21295790<br>\n",
        "\n",
        "先頭に表示させたい文字列:00000,11111,22222,33333,44444,55555,66666,77777,88888,99999,AAAAA,BBBBB,CCCCC,DDDDD,EEEEE,FFFFF,GGGGG,HHHHH,IIIII,JJJJJ,KKKKK,LLLLL,MMMMM,NNNNN,OOOOO,PPPPP,QQQQQ,RRRRR,SSSSS,TTTTT,UUUUU,VVVVV,WWWWW,XXXXX,YYYYY,ZZZZZ<br>\n",
        "trip: ◆TTTTTvkfjU<br>\n",
        "key: #29221916<br>"
      ],
      "metadata": {
        "id": "ow7VCYjDuH8B"
      }
    }
  ]
}